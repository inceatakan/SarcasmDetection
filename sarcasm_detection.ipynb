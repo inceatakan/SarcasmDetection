{
 "cells": [
  {
   "cell_type": "code",
   "execution_count": 2,
   "metadata": {},
   "outputs": [
    {
     "data": {
      "text/plain": [
       "'/Users/inceatakan/reader'"
      ]
     },
     "execution_count": 2,
     "metadata": {},
     "output_type": "execute_result"
    }
   ],
   "source": [
    "pwd"
   ]
  },
  {
   "cell_type": "code",
   "execution_count": 3,
   "metadata": {},
   "outputs": [
    {
     "name": "stdout",
     "output_type": "stream",
     "text": [
      "/Users/inceatakan\n"
     ]
    }
   ],
   "source": [
    "cd .."
   ]
  },
  {
   "cell_type": "code",
   "execution_count": 4,
   "metadata": {},
   "outputs": [
    {
     "name": "stdout",
     "output_type": "stream",
     "text": [
      "/Users/inceatakan/Desktop/SPEECH_EMOTION_RECOGNITION/SARCASM_DETECTION\n"
     ]
    }
   ],
   "source": [
    "cd Desktop/SPEECH_EMOTION_RECOGNITION/SARCASM_DETECTION"
   ]
  },
  {
   "cell_type": "code",
   "execution_count": 5,
   "metadata": {},
   "outputs": [],
   "source": [
    "'''INSTALL THE DATA'''\n",
    "import pandas as pd\n",
    "import numpy as np\n",
    "\n",
    "sarcasm = pd.read_csv('total_data')"
   ]
  },
  {
   "cell_type": "code",
   "execution_count": 6,
   "metadata": {},
   "outputs": [
    {
     "name": "stdout",
     "output_type": "stream",
     "text": [
      "<class 'pandas.core.frame.DataFrame'>\n"
     ]
    }
   ],
   "source": [
    "print(type(sarcasm))\n",
    "sarcasm_input = sarcasm['input']"
   ]
  },
  {
   "cell_type": "code",
   "execution_count": 7,
   "metadata": {},
   "outputs": [
    {
     "name": "stdout",
     "output_type": "stream",
     "text": [
      "<class 'str'>\n"
     ]
    },
    {
     "data": {
      "text/plain": [
       "0                                        -1,1,0,0,-1,0\n",
       "1                             -1,-1,0,-1,0,0,3,0,-1,-1\n",
       "2                                   0,1,2,0,-1,-2,2,-3\n",
       "3    2,2,-1,0,-1,1,-1,-1,1,-1,0,1,-1,0,-2,0,-1,1,1,...\n",
       "4                                                    0\n",
       "Name: input, dtype: object"
      ]
     },
     "execution_count": 7,
     "metadata": {},
     "output_type": "execute_result"
    }
   ],
   "source": [
    "print(type(sarcasm_input[0]))\n",
    "sarcasm_input.head()"
   ]
  },
  {
   "cell_type": "code",
   "execution_count": 8,
   "metadata": {},
   "outputs": [
    {
     "name": "stdout",
     "output_type": "stream",
     "text": [
      "<class 'list'>\n"
     ]
    },
    {
     "name": "stderr",
     "output_type": "stream",
     "text": [
      "/anaconda3/lib/python3.5/site-packages/ipykernel_launcher.py:2: SettingWithCopyWarning: \n",
      "A value is trying to be set on a copy of a slice from a DataFrame\n",
      "\n",
      "See the caveats in the documentation: http://pandas.pydata.org/pandas-docs/stable/indexing.html#indexing-view-versus-copy\n",
      "  \n"
     ]
    },
    {
     "data": {
      "text/plain": [
       "pandas.core.series.Series"
      ]
     },
     "execution_count": 8,
     "metadata": {},
     "output_type": "execute_result"
    }
   ],
   "source": [
    "'''Let us convert digits in string format into integer format'''\n",
    "sarcasm_input['input'] = [[np.int32(item) for item in sarcasm_input['input'].split(',')] for sarcasm_input['input'] in sarcasm_input]\n",
    "print(type(sarcasm_input['input']))\n",
    "type(sarcasm_input)"
   ]
  },
  {
   "cell_type": "code",
   "execution_count": 9,
   "metadata": {},
   "outputs": [
    {
     "name": "stderr",
     "output_type": "stream",
     "text": [
      "/anaconda3/lib/python3.5/site-packages/h5py/__init__.py:36: FutureWarning: Conversion of the second argument of issubdtype from `float` to `np.floating` is deprecated. In future, it will be treated as `np.float64 == np.dtype(float).type`.\n",
      "  from ._conv import register_converters as _register_converters\n",
      "Using TensorFlow backend.\n",
      "/anaconda3/lib/python3.5/importlib/_bootstrap.py:222: RuntimeWarning: compiletime version 3.6 of module 'tensorflow.python.framework.fast_tensor_util' does not match runtime version 3.5\n",
      "  return f(*args, **kwds)\n"
     ]
    }
   ],
   "source": [
    "'''Convert it into a numpy array'''\n",
    "import numpy as np\n",
    "\n",
    "import scipy\n",
    "from keras.preprocessing.sequence import pad_sequences\n",
    "\n",
    "\n",
    "# pad sequence\n",
    "sarcasm_input['input'] = pad_sequences(sarcasm_input['input'], padding='post', value=5.0)\n",
    "#sarcasm_input = np.array([np.array(xi) for xi in sarcasm_input])\n",
    "sarcasm_input['input'] = sarcasm_input['input'].tolist()"
   ]
  },
  {
   "cell_type": "code",
   "execution_count": 10,
   "metadata": {},
   "outputs": [],
   "source": [
    "'''Convert the numpy array into a data frame'''\n",
    "\n",
    "sarcasm['input'] = sarcasm_input['input']"
   ]
  },
  {
   "cell_type": "code",
   "execution_count": 11,
   "metadata": {},
   "outputs": [
    {
     "name": "stdout",
     "output_type": "stream",
     "text": [
      "173\n"
     ]
    },
    {
     "data": {
      "text/html": [
       "<div>\n",
       "<style scoped>\n",
       "    .dataframe tbody tr th:only-of-type {\n",
       "        vertical-align: middle;\n",
       "    }\n",
       "\n",
       "    .dataframe tbody tr th {\n",
       "        vertical-align: top;\n",
       "    }\n",
       "\n",
       "    .dataframe thead th {\n",
       "        text-align: right;\n",
       "    }\n",
       "</style>\n",
       "<table border=\"1\" class=\"dataframe\">\n",
       "  <thead>\n",
       "    <tr style=\"text-align: right;\">\n",
       "      <th></th>\n",
       "      <th>Unnamed: 0</th>\n",
       "      <th>input</th>\n",
       "      <th>output</th>\n",
       "    </tr>\n",
       "  </thead>\n",
       "  <tbody>\n",
       "    <tr>\n",
       "      <th>0</th>\n",
       "      <td>1</td>\n",
       "      <td>[-1, 1, 0, 0, -1, 0, 5, 5, 5, 5, 5, 5, 5, 5, 5...</td>\n",
       "      <td>1</td>\n",
       "    </tr>\n",
       "    <tr>\n",
       "      <th>1</th>\n",
       "      <td>2</td>\n",
       "      <td>[-1, -1, 0, -1, 0, 0, 3, 0, -1, -1, 5, 5, 5, 5...</td>\n",
       "      <td>1</td>\n",
       "    </tr>\n",
       "    <tr>\n",
       "      <th>2</th>\n",
       "      <td>3</td>\n",
       "      <td>[0, 1, 2, 0, -1, -2, 2, -3, 5, 5, 5, 5, 5, 5, ...</td>\n",
       "      <td>1</td>\n",
       "    </tr>\n",
       "    <tr>\n",
       "      <th>3</th>\n",
       "      <td>4</td>\n",
       "      <td>[2, 2, -1, 0, -1, 1, -1, -1, 1, -1, 0, 1, -1, ...</td>\n",
       "      <td>1</td>\n",
       "    </tr>\n",
       "    <tr>\n",
       "      <th>4</th>\n",
       "      <td>5</td>\n",
       "      <td>[0, 5, 5, 5, 5, 5, 5, 5, 5, 5, 5, 5, 5, 5, 5, ...</td>\n",
       "      <td>1</td>\n",
       "    </tr>\n",
       "  </tbody>\n",
       "</table>\n",
       "</div>"
      ],
      "text/plain": [
       "   Unnamed: 0                                              input  output\n",
       "0           1  [-1, 1, 0, 0, -1, 0, 5, 5, 5, 5, 5, 5, 5, 5, 5...       1\n",
       "1           2  [-1, -1, 0, -1, 0, 0, 3, 0, -1, -1, 5, 5, 5, 5...       1\n",
       "2           3  [0, 1, 2, 0, -1, -2, 2, -3, 5, 5, 5, 5, 5, 5, ...       1\n",
       "3           4  [2, 2, -1, 0, -1, 1, -1, -1, 1, -1, 0, 1, -1, ...       1\n",
       "4           5  [0, 5, 5, 5, 5, 5, 5, 5, 5, 5, 5, 5, 5, 5, 5, ...       1"
      ]
     },
     "execution_count": 11,
     "metadata": {},
     "output_type": "execute_result"
    }
   ],
   "source": [
    "print(len(sarcasm.input[0]))\n",
    "sarcasm.head()"
   ]
  },
  {
   "cell_type": "code",
   "execution_count": 12,
   "metadata": {},
   "outputs": [
    {
     "data": {
      "text/html": [
       "<div>\n",
       "<style scoped>\n",
       "    .dataframe tbody tr th:only-of-type {\n",
       "        vertical-align: middle;\n",
       "    }\n",
       "\n",
       "    .dataframe tbody tr th {\n",
       "        vertical-align: top;\n",
       "    }\n",
       "\n",
       "    .dataframe thead th {\n",
       "        text-align: right;\n",
       "    }\n",
       "</style>\n",
       "<table border=\"1\" class=\"dataframe\">\n",
       "  <thead>\n",
       "    <tr style=\"text-align: right;\">\n",
       "      <th></th>\n",
       "      <th>input</th>\n",
       "      <th>output</th>\n",
       "    </tr>\n",
       "  </thead>\n",
       "  <tbody>\n",
       "    <tr>\n",
       "      <th>0</th>\n",
       "      <td>[-1, 1, 0, 0, -1, 0, 5, 5, 5, 5, 5, 5, 5, 5, 5...</td>\n",
       "      <td>1</td>\n",
       "    </tr>\n",
       "    <tr>\n",
       "      <th>1</th>\n",
       "      <td>[-1, -1, 0, -1, 0, 0, 3, 0, -1, -1, 5, 5, 5, 5...</td>\n",
       "      <td>1</td>\n",
       "    </tr>\n",
       "    <tr>\n",
       "      <th>2</th>\n",
       "      <td>[0, 1, 2, 0, -1, -2, 2, -3, 5, 5, 5, 5, 5, 5, ...</td>\n",
       "      <td>1</td>\n",
       "    </tr>\n",
       "    <tr>\n",
       "      <th>3</th>\n",
       "      <td>[2, 2, -1, 0, -1, 1, -1, -1, 1, -1, 0, 1, -1, ...</td>\n",
       "      <td>1</td>\n",
       "    </tr>\n",
       "    <tr>\n",
       "      <th>4</th>\n",
       "      <td>[0, 5, 5, 5, 5, 5, 5, 5, 5, 5, 5, 5, 5, 5, 5, ...</td>\n",
       "      <td>1</td>\n",
       "    </tr>\n",
       "  </tbody>\n",
       "</table>\n",
       "</div>"
      ],
      "text/plain": [
       "                                               input  output\n",
       "0  [-1, 1, 0, 0, -1, 0, 5, 5, 5, 5, 5, 5, 5, 5, 5...       1\n",
       "1  [-1, -1, 0, -1, 0, 0, 3, 0, -1, -1, 5, 5, 5, 5...       1\n",
       "2  [0, 1, 2, 0, -1, -2, 2, -3, 5, 5, 5, 5, 5, 5, ...       1\n",
       "3  [2, 2, -1, 0, -1, 1, -1, -1, 1, -1, 0, 1, -1, ...       1\n",
       "4  [0, 5, 5, 5, 5, 5, 5, 5, 5, 5, 5, 5, 5, 5, 5, ...       1"
      ]
     },
     "execution_count": 12,
     "metadata": {},
     "output_type": "execute_result"
    }
   ],
   "source": [
    "sarcasm = sarcasm.drop(['Unnamed: 0'], axis=1)\n",
    "sarcasm.head()"
   ]
  },
  {
   "cell_type": "code",
   "execution_count": 105,
   "metadata": {},
   "outputs": [],
   "source": [
    "'''Saving it into a csv file'''\n",
    "\n",
    "sarcasm.to_csv('sarcasm', encoding='utf-8')"
   ]
  },
  {
   "cell_type": "code",
   "execution_count": 13,
   "metadata": {},
   "outputs": [
    {
     "name": "stdout",
     "output_type": "stream",
     "text": [
      "<class 'pandas.core.frame.DataFrame'>\n",
      "RangeIndex: 1235 entries, 0 to 1234\n",
      "Data columns (total 2 columns):\n",
      "input     1235 non-null object\n",
      "output    1235 non-null int64\n",
      "dtypes: int64(1), object(1)\n",
      "memory usage: 19.4+ KB\n"
     ]
    }
   ],
   "source": [
    "'''START THE WHOLE PROCESS FROM HERE'''\n",
    "\n",
    "import pandas as pd\n",
    "\n",
    "#sarcasm = pd.read_csv('sarcasm')\n",
    "sarcasm.info()\n"
   ]
  },
  {
   "cell_type": "code",
   "execution_count": 14,
   "metadata": {},
   "outputs": [
    {
     "name": "stdout",
     "output_type": "stream",
     "text": [
      "X shape:  (1235, 173, 1)\n",
      "<class 'numpy.ndarray'>\n",
      "<class 'numpy.ndarray'>\n",
      "X_train shape:  (988, 173, 1)\n",
      "y_train shape:  (988, 2)\n",
      "X_test shape:  (247, 173, 1)\n",
      "y_test shape:  (247, 2)\n",
      "<class 'numpy.ndarray'>\n"
     ]
    },
    {
     "data": {
      "text/plain": [
       "173"
      ]
     },
     "execution_count": 14,
     "metadata": {},
     "output_type": "execute_result"
    }
   ],
   "source": [
    "'''Dividing Train/Test Split'''\n",
    "from sklearn.model_selection import train_test_split\n",
    "from sklearn.preprocessing import LabelEncoder\n",
    "from keras.utils import to_categorical\n",
    "\n",
    "np.random.seed(5)\n",
    "\n",
    "X = np.array(sarcasm.input.tolist())\n",
    "y = np.array(sarcasm.output.tolist())\n",
    "\n",
    "lb = LabelEncoder()\n",
    "\n",
    "y = to_categorical(lb.fit_transform(y))\n",
    "\n",
    "#X = sarcasm['input'].values\n",
    "X = np.expand_dims(X, axis=2)\n",
    "X = np.reshape(X, (X.shape[0], X.shape[1], 1))\n",
    "print('X shape: ', X.shape)\n",
    "#print(X[5])\n",
    "#y = sarcasm['output'].values\n",
    "\n",
    "print(type(X))\n",
    "print(type(y))\n",
    "X_train, X_test, y_train, y_test = train_test_split(X, y, test_size=0.20, random_state=42, stratify=y)\n",
    "\n",
    "print('X_train shape: ',X_train.shape)\n",
    "print('y_train shape: ',y_train.shape)\n",
    "print('X_test shape: ',X_test.shape)\n",
    "print('y_test shape: ',y_test.shape)\n",
    "print(type(X_train))\n",
    "len(X_train[99])"
   ]
  },
  {
   "cell_type": "code",
   "execution_count": 15,
   "metadata": {},
   "outputs": [],
   "source": [
    "'''Model'''\n",
    "from keras.callbacks import ModelCheckpoint\n",
    "from keras.models import Model, load_model, Sequential\n",
    "from keras.layers import Dense, Activation, Dropout, Input, Masking, TimeDistributed, LSTM, Conv1D\n",
    "from keras.layers import GRU, Bidirectional, BatchNormalization, Reshape\n",
    "from keras.optimizers import Adam, SGD\n",
    "from keras import metrics\n",
    "\n",
    "from keras import layers\n",
    "from keras import callbacks\n",
    "from keras.layers import Input, Dense, Activation, ZeroPadding1D, BatchNormalization, Flatten, Conv2D, Conv1D\n",
    "from keras.layers import AveragePooling1D, MaxPooling1D, Dropout, GlobalMaxPooling1D, GlobalAveragePooling1D\n",
    "from keras.models import Model\n",
    "from keras.preprocessing import image\n",
    "from keras.utils import layer_utils\n",
    "from keras.utils.data_utils import get_file\n",
    "from keras.applications.imagenet_utils import preprocess_input\n",
    "import pydot\n",
    "from IPython.display import SVG\n",
    "from keras.utils.vis_utils import model_to_dot\n",
    "from keras.utils import plot_model\n",
    "#from kt_utils import *\n",
    "from sklearn.model_selection import train_test_split\n",
    "from keras.wrappers.scikit_learn import KerasClassifier\n",
    "from sklearn.model_selection import GridSearchCV\n",
    "from keras.models import Sequential\n",
    "\n",
    "import keras.backend as K\n",
    "K.set_image_data_format('channels_last')\n",
    "import matplotlib.pyplot as plt\n",
    "from matplotlib.pyplot import imshow\n",
    "\n",
    "%matplotlib inline\n",
    "\n"
   ]
  },
  {
   "cell_type": "code",
   "execution_count": 16,
   "metadata": {},
   "outputs": [
    {
     "name": "stdout",
     "output_type": "stream",
     "text": [
      "[0]\n"
     ]
    },
    {
     "data": {
      "image/png": "[encoded data removed]",
      "text/plain": [
       "<matplotlib.figure.Figure at 0x11799fb70>"
      ]
     },
     "metadata": {},
     "output_type": "display_data"
    }
   ],
   "source": [
    "import pandas\n",
    "import matplotlib.pyplot as plt\n",
    "print(X[835][2])\n",
    "plt.plot(X[835])\n",
    "plt.show()"
   ]
  },
  {
   "cell_type": "code",
   "execution_count": 17,
   "metadata": {},
   "outputs": [
    {
     "name": "stdout",
     "output_type": "stream",
     "text": [
      "_________________________________________________________________\n",
      "Layer (type)                 Output Shape              Param #   \n",
      "=================================================================\n",
      "input_1 (InputLayer)         (None, 173, 1)            0         \n",
      "_________________________________________________________________\n",
      "conv1d_1 (Conv1D)            (None, 170, 16)           80        \n",
      "_________________________________________________________________\n",
      "average_pooling1d_1 (Average (None, 43, 16)            0         \n",
      "_________________________________________________________________\n",
      "conv1d_2 (Conv1D)            (None, 40, 8)             520       \n",
      "_________________________________________________________________\n",
      "average_pooling1d_2 (Average (None, 10, 8)             0         \n",
      "_________________________________________________________________\n",
      "conv1d_3 (Conv1D)            (None, 9, 8)              136       \n",
      "_________________________________________________________________\n",
      "average_pooling1d_3 (Average (None, 3, 8)              0         \n",
      "_________________________________________________________________\n",
      "flatten_1 (Flatten)          (None, 24)                0         \n",
      "_________________________________________________________________\n",
      "dense_1 (Dense)              (None, 2)                 50        \n",
      "=================================================================\n",
      "Total params: 786\n",
      "Trainable params: 786\n",
      "Non-trainable params: 0\n",
      "_________________________________________________________________\n",
      "None\n",
      "Train on 988 samples, validate on 247 samples\n",
      "Epoch 1/20\n",
      "988/988 [==============================] - 1s 873us/step - loss: 0.6558 - acc: 0.6452 - val_loss: 0.6452 - val_acc: 0.6538\n",
      "Epoch 2/20\n",
      "988/988 [==============================] - 0s 389us/step - loss: 0.6480 - acc: 0.6518 - val_loss: 0.6427 - val_acc: 0.6538\n",
      "Epoch 3/20\n",
      "988/988 [==============================] - 0s 381us/step - loss: 0.6444 - acc: 0.6544 - val_loss: 0.6384 - val_acc: 0.6599\n",
      "Epoch 4/20\n",
      "988/988 [==============================] - 0s 425us/step - loss: 0.6374 - acc: 0.6604 - val_loss: 0.6359 - val_acc: 0.6741\n",
      "Epoch 5/20\n",
      "988/988 [==============================] - 0s 417us/step - loss: 0.6318 - acc: 0.6660 - val_loss: 0.6359 - val_acc: 0.6660\n",
      "Epoch 6/20\n",
      "988/988 [==============================] - 0s 390us/step - loss: 0.6292 - acc: 0.6685 - val_loss: 0.6234 - val_acc: 0.6802\n",
      "Epoch 7/20\n",
      "988/988 [==============================] - 0s 380us/step - loss: 0.6224 - acc: 0.6716 - val_loss: 0.6237 - val_acc: 0.6802\n",
      "Epoch 8/20\n",
      "988/988 [==============================] - 0s 381us/step - loss: 0.6220 - acc: 0.6756 - val_loss: 0.6191 - val_acc: 0.6883\n",
      "Epoch 9/20\n",
      "988/988 [==============================] - 0s 375us/step - loss: 0.6162 - acc: 0.6731 - val_loss: 0.6194 - val_acc: 0.6761\n",
      "Epoch 10/20\n",
      "988/988 [==============================] - 0s 391us/step - loss: 0.6120 - acc: 0.6756 - val_loss: 0.6148 - val_acc: 0.6741\n",
      "Epoch 11/20\n",
      "988/988 [==============================] - 0s 373us/step - loss: 0.6073 - acc: 0.6827 - val_loss: 0.6084 - val_acc: 0.6822\n",
      "Epoch 12/20\n",
      "988/988 [==============================] - 0s 391us/step - loss: 0.6052 - acc: 0.6883 - val_loss: 0.6098 - val_acc: 0.6883\n",
      "Epoch 13/20\n",
      "988/988 [==============================] - 0s 384us/step - loss: 0.5978 - acc: 0.6938 - val_loss: 0.6062 - val_acc: 0.6781\n",
      "Epoch 14/20\n",
      "988/988 [==============================] - 0s 374us/step - loss: 0.6008 - acc: 0.6872 - val_loss: 0.6054 - val_acc: 0.6761\n",
      "Epoch 15/20\n",
      "988/988 [==============================] - 0s 386us/step - loss: 0.5985 - acc: 0.6903 - val_loss: 0.6063 - val_acc: 0.6842\n",
      "Epoch 16/20\n",
      "988/988 [==============================] - 0s 383us/step - loss: 0.5976 - acc: 0.6913 - val_loss: 0.6070 - val_acc: 0.6862\n",
      "Epoch 17/20\n",
      "988/988 [==============================] - 0s 381us/step - loss: 0.5956 - acc: 0.6953 - val_loss: 0.6055 - val_acc: 0.6822\n",
      "Epoch 18/20\n",
      "988/988 [==============================] - 0s 462us/step - loss: 0.5926 - acc: 0.6969 - val_loss: 0.6057 - val_acc: 0.6802\n",
      "Epoch 19/20\n",
      "988/988 [==============================] - 0s 440us/step - loss: 0.5907 - acc: 0.7045 - val_loss: 0.6056 - val_acc: 0.6822\n",
      "Epoch 20/20\n",
      "988/988 [==============================] - 0s 453us/step - loss: 0.5906 - acc: 0.7014 - val_loss: 0.6101 - val_acc: 0.6802\n"
     ]
    },
    {
     "data": {
      "image/png": "[encoded data removed]",
      "text/plain": [
       "<matplotlib.figure.Figure at 0x1a299d5d30>"
      ]
     },
     "metadata": {},
     "output_type": "display_data"
    }
   ],
   "source": [
    "# Model 1: CNN\n",
    "\n",
    "'''Use Masking to nullify of the effect of zeros added by Padding'''\n",
    "\n",
    "np.random.seed(7)\n",
    "'''\n",
    "inp =  Input(shape=(173, 1))\n",
    "#masked = Masking(5)(inp)\n",
    "conv1 = Conv1D(filters=128, kernel_size=4)(inp)\n",
    "pool1 = MaxPooling1D(pool_size=4)(conv1)\n",
    "conv2 = Conv1D(filters=128, kernel_size=4)(pool1)\n",
    "pool2 = MaxPooling1D(pool_size=4)(conv2)\n",
    "conv3 = Conv1D(filters=128, kernel_size=2)(pool2)\n",
    "pool3 = MaxPooling1D(pool_size=4)(conv3)\n",
    "flat = Flatten()(pool3)\n",
    "#dense = Dense(1)(flat)\n",
    "dense = Dense(2, activation='sigmoid')(flat)\n",
    "model = Model(inp, dense)\n",
    "model.compile(optimizer=\"Adam\", loss=\"binary_crossentropy\", metrics=['accuracy'])\n",
    "'''\n",
    "\n",
    "inp =  Input(shape=(173, 1))\n",
    "#masked = Masking(5)(inp)\n",
    "conv1 = Conv1D(filters=16, kernel_size=4, activation='relu')(inp)\n",
    "pool1 = AveragePooling1D(pool_size=4, padding='same')(conv1)\n",
    "#pool1 = GlobalAveragePooling1D(data_format='channels_last')(conv1)\n",
    "conv2 = Conv1D(filters=8, kernel_size=4, activation='relu')(pool1)\n",
    "#conv2 = Dropout(0.5)(conv2)\n",
    "pool2 = AveragePooling1D(pool_size=4, padding='same')(conv2)\n",
    "conv3 = Conv1D(filters=8, kernel_size=2, activation='relu')(pool2)\n",
    "#conv3 = Dropout(0.5)(conv3)\n",
    "pool3 = AveragePooling1D(pool_size=4, padding='same')(conv3)\n",
    "flat = Flatten()(pool3)\n",
    "#dense = Dense(1)(flat)\n",
    "dense = Dense(2, activation='sigmoid')(flat)\n",
    "model = Model(inp, dense)\n",
    "#sgd = SGD(lr=0.01, decay=1e-6, momentum=0.9, nesterov=True)\n",
    "adam=Adam()\n",
    "model.compile(optimizer=adam, loss=\"binary_crossentropy\", metrics=['accuracy'])\n",
    "\n",
    "print(model.summary())\n",
    "\n",
    "# This checkpoint object will store the model parameters\n",
    "# in the file \"weights.hdf5\"\n",
    "checkpoint = ModelCheckpoint('weights.hdf5', monitor='val_loss',\n",
    "save_best_only=True) # Store in a list to be used during training\n",
    "callbacks_list = [checkpoint]\n",
    "\n",
    "# Fit the model on a training set, using the checkpoint as a callback\n",
    "#model.fit(X_train, y_train, epochs = 200, batch_size = 8)\n",
    "training = model.fit(X_train, y_train, validation_data=(X_test, y_test), epochs=20, batch_size=10, verbose=1,callbacks=callbacks_list)\n",
    "\n",
    "# Extract the history from the training object\n",
    "history = training.history\n",
    "\n",
    "# Plot the training loss \n",
    "plt.plot(history['loss'])\n",
    "# Plot the validation loss\n",
    "plt.plot(history['val_loss'])\n",
    "\n",
    "# Show the figure\n",
    "plt.show()\n"
   ]
  },
  {
   "cell_type": "code",
   "execution_count": 18,
   "metadata": {},
   "outputs": [
    {
     "name": "stdout",
     "output_type": "stream",
     "text": [
      "247/247 [==============================] - 0s 141us/step\n",
      "\n",
      "Loss = 0.6100674421198455\n",
      "Test Accuracy = 0.680161941871952\n"
     ]
    }
   ],
   "source": [
    "### CNN Model on Test Data\n",
    "\n",
    "preds = model.evaluate(x = X_test, y = y_test)\n",
    "\n",
    "print()\n",
    "print (\"Loss = \" + str(preds[0]))\n",
    "print (\"Test Accuracy = \" + str(preds[1]))\n",
    "#print(model.fit_generator(preds))"
   ]
  },
  {
   "cell_type": "code",
   "execution_count": 19,
   "metadata": {},
   "outputs": [
    {
     "name": "stdout",
     "output_type": "stream",
     "text": [
      "Train on 988 samples, validate on 247 samples\n",
      "Epoch 1/20\n",
      "988/988 [==============================] - 44s 44ms/step - loss: 0.6718 - acc: 0.6533 - val_loss: 0.6349 - val_acc: 0.7004\n",
      "Epoch 2/20\n",
      "988/988 [==============================] - 42s 42ms/step - loss: 0.6415 - acc: 0.7045 - val_loss: 0.6045 - val_acc: 0.6599\n",
      "Epoch 3/20\n",
      "988/988 [==============================] - 41s 41ms/step - loss: 0.5970 - acc: 0.6852 - val_loss: 0.6021 - val_acc: 0.7045\n",
      "Epoch 4/20\n",
      "988/988 [==============================] - 42s 43ms/step - loss: 0.5847 - acc: 0.7055 - val_loss: 0.5805 - val_acc: 0.6923\n",
      "Epoch 5/20\n",
      "988/988 [==============================] - 41s 41ms/step - loss: 0.5751 - acc: 0.6984 - val_loss: 0.5809 - val_acc: 0.7045\n",
      "Epoch 6/20\n",
      "988/988 [==============================] - 40s 40ms/step - loss: 0.5746 - acc: 0.7055 - val_loss: 0.5779 - val_acc: 0.7045\n",
      "Epoch 7/20\n",
      "988/988 [==============================] - 41s 42ms/step - loss: 0.5713 - acc: 0.7014 - val_loss: 0.5767 - val_acc: 0.7085\n",
      "Epoch 8/20\n",
      "988/988 [==============================] - 41s 41ms/step - loss: 0.5702 - acc: 0.6984 - val_loss: 0.5779 - val_acc: 0.7085\n",
      "Epoch 9/20\n",
      "988/988 [==============================] - 40s 40ms/step - loss: 0.5654 - acc: 0.7075 - val_loss: 0.5898 - val_acc: 0.6802\n",
      "Epoch 10/20\n",
      "988/988 [==============================] - 40s 41ms/step - loss: 0.5662 - acc: 0.7014 - val_loss: 0.5766 - val_acc: 0.7085\n",
      "Epoch 11/20\n",
      "988/988 [==============================] - 41s 41ms/step - loss: 0.5660 - acc: 0.6994 - val_loss: 0.5776 - val_acc: 0.6964\n",
      "Epoch 12/20\n",
      "988/988 [==============================] - 41s 41ms/step - loss: 0.5611 - acc: 0.7085 - val_loss: 0.5813 - val_acc: 0.6883\n",
      "Epoch 13/20\n",
      "988/988 [==============================] - 40s 41ms/step - loss: 0.5607 - acc: 0.7065 - val_loss: 0.5792 - val_acc: 0.6923\n",
      "Epoch 14/20\n",
      "988/988 [==============================] - 43s 43ms/step - loss: 0.5533 - acc: 0.7166 - val_loss: 0.5768 - val_acc: 0.7085\n",
      "Epoch 15/20\n",
      "988/988 [==============================] - 40s 41ms/step - loss: 0.5527 - acc: 0.7136 - val_loss: 0.5802 - val_acc: 0.6923\n",
      "Epoch 16/20\n",
      "988/988 [==============================] - 40s 41ms/step - loss: 0.5673 - acc: 0.7075 - val_loss: 0.5815 - val_acc: 0.6923\n",
      "Epoch 17/20\n",
      "988/988 [==============================] - 42s 42ms/step - loss: 0.5615 - acc: 0.7136 - val_loss: 0.5771 - val_acc: 0.7004\n",
      "Epoch 18/20\n",
      "988/988 [==============================] - 41s 41ms/step - loss: 0.5565 - acc: 0.7136 - val_loss: 0.5758 - val_acc: 0.7004\n",
      "Epoch 19/20\n",
      "988/988 [==============================] - 40s 41ms/step - loss: 0.5538 - acc: 0.7206 - val_loss: 0.5756 - val_acc: 0.6964\n",
      "Epoch 20/20\n",
      "988/988 [==============================] - 41s 42ms/step - loss: 0.5834 - acc: 0.7166 - val_loss: 0.6377 - val_acc: 0.6842\n",
      "_________________________________________________________________\n",
      "Layer (type)                 Output Shape              Param #   \n",
      "=================================================================\n",
      "masking_1 (Masking)          (None, 173, 1)            0         \n",
      "_________________________________________________________________\n",
      "lstm_1 (LSTM)                (None, 173, 30)           3840      \n",
      "_________________________________________________________________\n",
      "lstm_2 (LSTM)                (None, 173, 30)           7320      \n",
      "_________________________________________________________________\n",
      "lstm_3 (LSTM)                (None, 30)                7320      \n",
      "_________________________________________________________________\n",
      "dense_2 (Dense)              (None, 2)                 62        \n",
      "=================================================================\n",
      "Total params: 18,542\n",
      "Trainable params: 18,542\n",
      "Non-trainable params: 0\n",
      "_________________________________________________________________\n",
      "None\n"
     ]
    },
    {
     "data": {
      "image/png": "[encoded data removed]",
      "text/plain": [
       "<matplotlib.figure.Figure at 0x1a29fcc630>"
      ]
     },
     "metadata": {},
     "output_type": "display_data"
    }
   ],
   "source": [
    "'''Model 2: LSTM'''\n",
    "from keras.models import Sequential\n",
    "from keras.layers import Dense, Activation\n",
    "from keras.layers.embeddings import Embedding\n",
    "\n",
    "#X_train = np.reshape(X_train, (X_train.shape[0], 1, X_train.shape[1]))\n",
    "#X_test = np.reshape(X_test, (X_test.shape[0], 1, X_test.shape[1]))\n",
    "\n",
    "np.random.seed(7)\n",
    "\n",
    "#embedding_vecor_length = 32\n",
    "\n",
    "data_dim = 173\n",
    "timesteps = 1\n",
    "num_classes = 2\n",
    "\n",
    "model2 = Sequential()\n",
    "model2.add(Masking(mask_value=5., input_shape=(data_dim, timesteps)))\n",
    "model2.add(LSTM(30, return_sequences=True,\n",
    "               activation='relu'))  # returns a sequence of vectors of dimension 30\n",
    "model2.add(LSTM(30, return_sequences=True, activation='relu'))  # returns a sequence of vectors of dimension 30\n",
    "model2.add(LSTM(30,activation='relu'))  # return a single vector of dimension 30\n",
    "model2.add(Dense(2, activation='softmax'))\n",
    "\n",
    "model2.compile(loss='binary_crossentropy', optimizer='adam', metrics=['accuracy'])\n",
    "  #optimizer='rmsprop'            \n",
    "training2 = model2.fit(X_train, y_train, validation_data=(X_test, y_test), batch_size = 10, epochs = 20, verbose = 1, callbacks=callbacks_list)\n",
    "\n",
    "print(model2.summary())\n",
    "\n",
    "# Extract the history from the training object\n",
    "history2 = training2.history\n",
    "\n",
    "# Plot the training loss \n",
    "plt.plot(history2['loss'])\n",
    "# Plot the validation loss\n",
    "plt.plot(history2['val_loss'])\n",
    "\n",
    "# Show the figure\n",
    "plt.show()"
   ]
  },
  {
   "cell_type": "code",
   "execution_count": 20,
   "metadata": {},
   "outputs": [
    {
     "name": "stdout",
     "output_type": "stream",
     "text": [
      "247/247 [==============================] - 1s 3ms/step\n",
      "\n",
      "Loss = 0.6377292511916837\n",
      "Test Accuracy = 0.6842105284876187\n"
     ]
    }
   ],
   "source": [
    "preds2 = model2.evaluate(x = X_test, y = y_test)\n",
    "\n",
    "print()\n",
    "print (\"Loss = \" + str(preds2[0]))\n",
    "print (\"Test Accuracy = \" + str(preds2[1]))\n",
    "#print(model.fit_generator(preds))"
   ]
  },
  {
   "cell_type": "code",
   "execution_count": 21,
   "metadata": {},
   "outputs": [
    {
     "name": "stdout",
     "output_type": "stream",
     "text": [
      "Train on 988 samples, validate on 247 samples\n",
      "Epoch 1/20\n",
      "988/988 [==============================] - 55s 56ms/step - loss: 0.6144 - acc: 0.6791 - val_loss: 0.5833 - val_acc: 0.7206\n",
      "Epoch 2/20\n",
      "988/988 [==============================] - 48s 48ms/step - loss: 0.5706 - acc: 0.7126 - val_loss: 0.5882 - val_acc: 0.7085\n",
      "Epoch 3/20\n",
      "988/988 [==============================] - 47s 47ms/step - loss: 0.5664 - acc: 0.7186 - val_loss: 0.5793 - val_acc: 0.7004\n",
      "Epoch 4/20\n",
      "988/988 [==============================] - 48s 49ms/step - loss: 0.5588 - acc: 0.7298 - val_loss: 0.5767 - val_acc: 0.7004\n",
      "Epoch 5/20\n",
      "988/988 [==============================] - 45s 45ms/step - loss: 0.5508 - acc: 0.7287 - val_loss: 0.5747 - val_acc: 0.7045\n",
      "Epoch 6/20\n",
      "988/988 [==============================] - 45s 46ms/step - loss: 0.5551 - acc: 0.7237 - val_loss: 0.5802 - val_acc: 0.7045\n",
      "Epoch 7/20\n",
      "988/988 [==============================] - 46s 47ms/step - loss: 0.5443 - acc: 0.7348 - val_loss: 0.5792 - val_acc: 0.7126\n",
      "Epoch 8/20\n",
      "988/988 [==============================] - 47s 48ms/step - loss: 0.5432 - acc: 0.7389 - val_loss: 0.5774 - val_acc: 0.7045\n",
      "Epoch 9/20\n",
      "988/988 [==============================] - 45s 45ms/step - loss: 0.5422 - acc: 0.7368 - val_loss: 0.5753 - val_acc: 0.6964\n",
      "Epoch 10/20\n",
      "988/988 [==============================] - 45s 46ms/step - loss: 0.5516 - acc: 0.7267 - val_loss: 0.5732 - val_acc: 0.7166\n",
      "Epoch 11/20\n",
      "988/988 [==============================] - 49s 50ms/step - loss: 0.5448 - acc: 0.7368 - val_loss: 0.5749 - val_acc: 0.6964\n",
      "Epoch 12/20\n",
      "988/988 [==============================] - 49s 50ms/step - loss: 0.5415 - acc: 0.7348 - val_loss: 0.5930 - val_acc: 0.6761\n",
      "Epoch 13/20\n",
      "988/988 [==============================] - 48s 49ms/step - loss: 0.5408 - acc: 0.7399 - val_loss: 0.5709 - val_acc: 0.7085\n",
      "Epoch 14/20\n",
      "988/988 [==============================] - 45s 45ms/step - loss: 0.5369 - acc: 0.7460 - val_loss: 0.5917 - val_acc: 0.6842\n",
      "Epoch 15/20\n",
      "988/988 [==============================] - 50s 51ms/step - loss: 0.5394 - acc: 0.7399 - val_loss: 0.5787 - val_acc: 0.7166\n",
      "Epoch 16/20\n",
      "988/988 [==============================] - 52s 53ms/step - loss: 0.5401 - acc: 0.7409 - val_loss: 0.5814 - val_acc: 0.7085\n",
      "Epoch 17/20\n",
      "988/988 [==============================] - 47s 48ms/step - loss: 0.5395 - acc: 0.7277 - val_loss: 0.5709 - val_acc: 0.7247\n",
      "Epoch 18/20\n",
      "988/988 [==============================] - 51s 52ms/step - loss: 0.5375 - acc: 0.7358 - val_loss: 0.5908 - val_acc: 0.6721\n",
      "Epoch 19/20\n",
      "988/988 [==============================] - 47s 47ms/step - loss: 0.5395 - acc: 0.7480 - val_loss: 0.5719 - val_acc: 0.7247\n",
      "Epoch 20/20\n",
      "988/988 [==============================] - 46s 47ms/step - loss: 0.5356 - acc: 0.7409 - val_loss: 0.5781 - val_acc: 0.7126\n",
      "_________________________________________________________________\n",
      "Layer (type)                 Output Shape              Param #   \n",
      "=================================================================\n",
      "masking_2 (Masking)          (None, 173, 1)            0         \n",
      "_________________________________________________________________\n",
      "bidirectional_1 (Bidirection (None, 173, 60)           7680      \n",
      "_________________________________________________________________\n",
      "bidirectional_2 (Bidirection (None, 173, 60)           21840     \n",
      "_________________________________________________________________\n",
      "bidirectional_3 (Bidirection (None, 60)                21840     \n",
      "_________________________________________________________________\n",
      "dense_3 (Dense)              (None, 2)                 122       \n",
      "=================================================================\n",
      "Total params: 51,482\n",
      "Trainable params: 51,482\n",
      "Non-trainable params: 0\n",
      "_________________________________________________________________\n",
      "None\n"
     ]
    },
    {
     "data": {
      "image/png": "[encoded data removed]",
      "text/plain": [
       "<matplotlib.figure.Figure at 0x1a2b445780>"
      ]
     },
     "metadata": {},
     "output_type": "display_data"
    }
   ],
   "source": [
    "'''Model 3: BiLSTM'''\n",
    "from keras.models import Sequential\n",
    "from keras.layers import Dense, Activation\n",
    "from keras.layers.embeddings import Embedding\n",
    "\n",
    "#X_train = np.reshape(X_train, (X_train.shape[0], 1, X_train.shape[1]))\n",
    "#X_test = np.reshape(X_test, (X_test.shape[0], 1, X_test.shape[1]))\n",
    "\n",
    "np.random.seed(7)\n",
    "\n",
    "#embedding_vecor_length = 32\n",
    "\n",
    "data_dim = 173\n",
    "timesteps = 1\n",
    "num_classes = 2\n",
    "\n",
    "model3 = Sequential()\n",
    "model3.add(Masking(mask_value=5., input_shape=(data_dim, timesteps)))\n",
    "model3.add(Bidirectional(LSTM(30, return_sequences=True,\n",
    "               activation='relu')))  # returns a sequence of vectors of dimension 30\n",
    "model3.add(Bidirectional(LSTM(30, return_sequences=True, activation='relu')))  # returns a sequence of vectors of dimension 30\n",
    "model3.add(Bidirectional(LSTM(30,activation='relu')))  # return a single vector of dimension 30\n",
    "model3.add(Dense(2, activation='softmax'))\n",
    "\n",
    "model3.compile(loss='binary_crossentropy', optimizer='adam', metrics=['accuracy'])\n",
    "  #optimizer='rmsprop'            \n",
    "training3 = model3.fit(X_train, y_train, validation_data=(X_test, y_test), batch_size = 10, epochs = 20, verbose = 1, callbacks=callbacks_list)\n",
    "\n",
    "print(model3.summary())\n",
    "\n",
    "# Extract the history from the training object\n",
    "history3 = training3.history\n",
    "\n",
    "# Plot the training loss \n",
    "plt.plot(history3['loss'])\n",
    "# Plot the validation loss\n",
    "plt.plot(history3['val_loss'])\n",
    "\n",
    "# Show the figure\n",
    "plt.show()"
   ]
  },
  {
   "cell_type": "code",
   "execution_count": 22,
   "metadata": {},
   "outputs": [
    {
     "name": "stdout",
     "output_type": "stream",
     "text": [
      "247/247 [==============================] - 1s 4ms/step\n",
      "\n",
      "Loss = 0.578140592285496\n",
      "Test Accuracy = 0.7125506075287638\n"
     ]
    }
   ],
   "source": [
    "preds3 = model3.evaluate(x = X_test, y = y_test)\n",
    "\n",
    "print()\n",
    "print (\"Loss = \" + str(preds3[0]))\n",
    "print (\"Test Accuracy = \" + str(preds3[1]))\n",
    "#print(model.fit_generator(preds))"
   ]
  },
  {
   "cell_type": "code",
   "execution_count": 29,
   "metadata": {},
   "outputs": [
    {
     "name": "stdout",
     "output_type": "stream",
     "text": [
      "Train on 988 samples, validate on 247 samples\n",
      "Epoch 1/20\n",
      "988/988 [==============================] - 16s 16ms/step - loss: 0.6538 - acc: 0.6508 - val_loss: 0.6478 - val_acc: 0.6518\n",
      "Epoch 2/20\n",
      "988/988 [==============================] - 11s 11ms/step - loss: 0.6511 - acc: 0.6569 - val_loss: 0.6328 - val_acc: 0.6599\n",
      "Epoch 3/20\n",
      "988/988 [==============================] - 11s 11ms/step - loss: 0.6339 - acc: 0.6589 - val_loss: 0.6323 - val_acc: 0.6761\n",
      "Epoch 4/20\n",
      "988/988 [==============================] - 11s 11ms/step - loss: 0.6203 - acc: 0.6670 - val_loss: 0.6134 - val_acc: 0.6842\n",
      "Epoch 5/20\n",
      "988/988 [==============================] - 11s 11ms/step - loss: 0.6019 - acc: 0.6974 - val_loss: 0.6013 - val_acc: 0.7045\n",
      "Epoch 6/20\n",
      "988/988 [==============================] - 11s 11ms/step - loss: 0.6062 - acc: 0.7055 - val_loss: 0.6046 - val_acc: 0.6923\n",
      "Epoch 7/20\n",
      "988/988 [==============================] - 11s 11ms/step - loss: 0.5872 - acc: 0.6994 - val_loss: 0.6884 - val_acc: 0.6842\n",
      "Epoch 8/20\n",
      "988/988 [==============================] - 11s 11ms/step - loss: 0.5966 - acc: 0.6964 - val_loss: 0.6093 - val_acc: 0.6923\n",
      "Epoch 9/20\n",
      "988/988 [==============================] - 12s 12ms/step - loss: 0.5798 - acc: 0.7115 - val_loss: 0.6034 - val_acc: 0.6923\n",
      "Epoch 10/20\n",
      "988/988 [==============================] - 11s 11ms/step - loss: 0.5758 - acc: 0.7095 - val_loss: 0.6058 - val_acc: 0.6923\n",
      "Epoch 11/20\n",
      "988/988 [==============================] - 11s 11ms/step - loss: 0.5725 - acc: 0.7004 - val_loss: 0.6102 - val_acc: 0.6680\n",
      "Epoch 12/20\n",
      "988/988 [==============================] - 11s 11ms/step - loss: 0.5657 - acc: 0.7156 - val_loss: 0.6030 - val_acc: 0.6842\n",
      "Epoch 13/20\n",
      "988/988 [==============================] - 11s 11ms/step - loss: 0.5604 - acc: 0.7136 - val_loss: 0.6079 - val_acc: 0.6680\n",
      "Epoch 14/20\n",
      "988/988 [==============================] - 11s 11ms/step - loss: 0.5916 - acc: 0.7196 - val_loss: 0.6023 - val_acc: 0.6923\n",
      "Epoch 15/20\n",
      "988/988 [==============================] - 11s 11ms/step - loss: 0.5620 - acc: 0.7206 - val_loss: 0.6072 - val_acc: 0.6680\n",
      "Epoch 16/20\n",
      "988/988 [==============================] - 11s 11ms/step - loss: 0.6282 - acc: 0.6791 - val_loss: 0.6182 - val_acc: 0.6802\n",
      "Epoch 17/20\n",
      "988/988 [==============================] - 11s 11ms/step - loss: 0.6033 - acc: 0.6953 - val_loss: 0.6076 - val_acc: 0.6802\n",
      "Epoch 18/20\n",
      "988/988 [==============================] - 11s 11ms/step - loss: 0.5889 - acc: 0.6953 - val_loss: 0.6050 - val_acc: 0.6761\n",
      "Epoch 19/20\n",
      "988/988 [==============================] - 11s 11ms/step - loss: 0.5845 - acc: 0.7095 - val_loss: 0.6062 - val_acc: 0.6842\n",
      "Epoch 20/20\n",
      "988/988 [==============================] - 11s 11ms/step - loss: 0.5994 - acc: 0.7024 - val_loss: 0.6072 - val_acc: 0.6761\n",
      "_________________________________________________________________\n",
      "Layer (type)                 Output Shape              Param #   \n",
      "=================================================================\n",
      "dense_10 (Dense)             (None, 173, 32)           64        \n",
      "_________________________________________________________________\n",
      "conv1d_7 (Conv1D)            (None, 170, 16)           2064      \n",
      "_________________________________________________________________\n",
      "average_pooling1d_5 (Average (None, 43, 16)            0         \n",
      "_________________________________________________________________\n",
      "bidirectional_13 (Bidirectio (None, 43, 60)            11280     \n",
      "_________________________________________________________________\n",
      "bidirectional_14 (Bidirectio (None, 43, 60)            21840     \n",
      "_________________________________________________________________\n",
      "bidirectional_15 (Bidirectio (None, 60)                21840     \n",
      "_________________________________________________________________\n",
      "dense_11 (Dense)             (None, 2)                 122       \n",
      "=================================================================\n",
      "Total params: 57,210\n",
      "Trainable params: 57,210\n",
      "Non-trainable params: 0\n",
      "_________________________________________________________________\n",
      "None\n"
     ]
    },
    {
     "data": {
      "image/png": "[encoded data removed]",
      "text/plain": [
       "<matplotlib.figure.Figure at 0x1a39aae438>"
      ]
     },
     "metadata": {},
     "output_type": "display_data"
    }
   ],
   "source": [
    "# Model 4: CNN + BiLSTM\n",
    "np.random.seed(7)\n",
    "\n",
    "#embedding_vecor_length = 32\n",
    "\n",
    "data_dim = 173\n",
    "timesteps = 1\n",
    "num_classes = 2\n",
    "\n",
    "inp =  Input(shape=(173, 1))\n",
    "\n",
    "model4 = Sequential()\n",
    "model4.add(Dense(32,input_shape=(data_dim, timesteps)))\n",
    "model4.add(Conv1D(filters=16, kernel_size=4, activation='relu'))\n",
    "model4.add(AveragePooling1D(pool_size=4, padding='same'))\n",
    "model3.add(Masking(mask_value=5.))\n",
    "model4.add(Bidirectional(LSTM(30, return_sequences=True,\n",
    "               activation='relu')))  # returns a sequence of vectors of dimension 30\n",
    "model4.add(Bidirectional(LSTM(30, return_sequences=True, activation='relu')))  # returns a sequence of vectors of dimension 30\n",
    "model4.add(Bidirectional(LSTM(30,activation='relu')))  # return a single vector of dimension 30\n",
    "model4.add(Dense(2, activation='softmax'))\n",
    "\n",
    "model4.compile(loss='binary_crossentropy', optimizer='adam', metrics=['accuracy'])\n",
    "  #optimizer='rmsprop'            \n",
    "training4 = model4.fit(X_train, y_train, validation_data=(X_test, y_test), batch_size = 10, epochs = 20, verbose = 1, callbacks=callbacks_list)\n",
    "\n",
    "print(model4.summary())\n",
    "\n",
    "# Extract the history from the training object\n",
    "history4 = training4.history\n",
    "\n",
    "# Plot the training loss \n",
    "plt.plot(history4['loss'])\n",
    "# Plot the validation loss\n",
    "plt.plot(history4['val_loss'])\n",
    "\n",
    "# Show the figure\n",
    "plt.show()"
   ]
  },
  {
   "cell_type": "code",
   "execution_count": 30,
   "metadata": {},
   "outputs": [
    {
     "name": "stdout",
     "output_type": "stream",
     "text": [
      "247/247 [==============================] - 0s 1ms/step\n",
      "\n",
      "Loss = 0.60715912662537\n",
      "Test Accuracy = 0.6761133579107431\n"
     ]
    }
   ],
   "source": [
    "preds4 = model4.evaluate(x = X_test, y = y_test)\n",
    "\n",
    "print()\n",
    "print (\"Loss = \" + str(preds4[0]))\n",
    "print (\"Test Accuracy = \" + str(preds4[1]))"
   ]
  },
  {
   "cell_type": "code",
   "execution_count": null,
   "metadata": {},
   "outputs": [],
   "source": []
  },
  {
   "cell_type": "code",
   "execution_count": null,
   "metadata": {},
   "outputs": [],
   "source": []
  },
  {
   "cell_type": "code",
   "execution_count": null,
   "metadata": {},
   "outputs": [],
   "source": []
  }
 ],
 "metadata": {
  "kernelspec": {
   "display_name": "Python 3",
   "language": "python",
   "name": "python3"
  },
  "language_info": {
   "codemirror_mode": {
    "name": "ipython",
    "version": 3
   },
   "file_extension": ".py",
   "mimetype": "text/x-python",
   "name": "python",
   "nbconvert_exporter": "python",
   "pygments_lexer": "ipython3",
   "version": "3.5.4"
  }
 },
 "nbformat": 4,
 "nbformat_minor": 2
}
